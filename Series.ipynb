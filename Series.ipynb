{
 "cells": [
  {
   "cell_type": "code",
   "execution_count": 24,
   "id": "03de038b",
   "metadata": {},
   "outputs": [],
   "source": [
    "import pandas as pd"
   ]
  },
  {
   "cell_type": "markdown",
   "id": "c694abf6",
   "metadata": {},
   "source": [
    "we can pass list or dict "
   ]
  },
  {
   "cell_type": "code",
   "execution_count": 25,
   "id": "63ee5488",
   "metadata": {},
   "outputs": [],
   "source": [
    "s1=pd.Series([\"keerthana\",\"adarsh\",\"gowda\",\"kishan\"])"
   ]
  },
  {
   "cell_type": "code",
   "execution_count": 26,
   "id": "1b3e5172",
   "metadata": {},
   "outputs": [
    {
     "data": {
      "text/plain": [
       "'kishan'"
      ]
     },
     "execution_count": 26,
     "metadata": {},
     "output_type": "execute_result"
    }
   ],
   "source": [
    "s1[3]"
   ]
  },
  {
   "cell_type": "code",
   "execution_count": 27,
   "id": "5c674af4",
   "metadata": {},
   "outputs": [
    {
     "data": {
      "text/plain": [
       "0    keerthana\n",
       "1       adarsh\n",
       "2      chinmay\n",
       "3       kishan\n",
       "dtype: object"
      ]
     },
     "execution_count": 27,
     "metadata": {},
     "output_type": "execute_result"
    }
   ],
   "source": [
    "s1[2]=\"chinmay\"\n",
    "s1"
   ]
  },
  {
   "cell_type": "code",
   "execution_count": 28,
   "id": "8b9a60f2",
   "metadata": {},
   "outputs": [
    {
     "data": {
      "text/plain": [
       "0    keerthana\n",
       "1       adarsh\n",
       "2      chinmay\n",
       "3       kishan\n",
       "4       akshay\n",
       "dtype: object"
      ]
     },
     "execution_count": 28,
     "metadata": {},
     "output_type": "execute_result"
    }
   ],
   "source": [
    "s1[4]=\"akshay\"\n",
    "s1"
   ]
  },
  {
   "cell_type": "markdown",
   "id": "77bfdf2d",
   "metadata": {},
   "source": [
    "KeyError: -1\n",
    "s1[-1]"
   ]
  },
  {
   "cell_type": "markdown",
   "id": "7d428f32",
   "metadata": {},
   "source": [
    "KeyError: 5\n",
    "s1[5]"
   ]
  },
  {
   "cell_type": "code",
   "execution_count": 29,
   "id": "6bc04fe7",
   "metadata": {},
   "outputs": [
    {
     "data": {
      "text/plain": [
       "k       Keerthi\n",
       "a        adarsh\n",
       "name      gowda\n",
       "Name: studentname, dtype: object"
      ]
     },
     "execution_count": 29,
     "metadata": {},
     "output_type": "execute_result"
    }
   ],
   "source": [
    "pd.Series({'k':\"Keerthi\",'a':\"adarsh\",\"name\":\"gowda\"},name=\"studentname\")"
   ]
  },
  {
   "cell_type": "markdown",
   "id": "91bcca42",
   "metadata": {},
   "source": [
    "name : studentname is used to name this series"
   ]
  },
  {
   "cell_type": "code",
   "execution_count": 30,
   "id": "e0dd9283",
   "metadata": {},
   "outputs": [
    {
     "data": {
      "text/plain": [
       "RangeIndex(start=0, stop=5, step=1)"
      ]
     },
     "execution_count": 30,
     "metadata": {},
     "output_type": "execute_result"
    }
   ],
   "source": [
    "s1.index"
   ]
  },
  {
   "cell_type": "code",
   "execution_count": 31,
   "id": "6d0c9e68",
   "metadata": {},
   "outputs": [
    {
     "data": {
      "text/plain": [
       "0    1\n",
       "1    2\n",
       "dtype: int64"
      ]
     },
     "execution_count": 31,
     "metadata": {},
     "output_type": "execute_result"
    }
   ],
   "source": [
    "pd.Series([1,2])"
   ]
  },
  {
   "cell_type": "code",
   "execution_count": 32,
   "id": "abd7e854",
   "metadata": {},
   "outputs": [
    {
     "data": {
      "text/plain": [
       "0    1.2\n",
       "1    2.3\n",
       "dtype: float64"
      ]
     },
     "execution_count": 32,
     "metadata": {},
     "output_type": "execute_result"
    }
   ],
   "source": [
    "pd.Series([1.2,2.3])"
   ]
  },
  {
   "cell_type": "code",
   "execution_count": 33,
   "id": "ed181ecf",
   "metadata": {},
   "outputs": [
    {
     "data": {
      "text/plain": [
       "0    1.0\n",
       "1    1.1\n",
       "dtype: float64"
      ]
     },
     "execution_count": 33,
     "metadata": {},
     "output_type": "execute_result"
    }
   ],
   "source": [
    "pd.Series([1,1.1])"
   ]
  },
  {
   "cell_type": "code",
   "execution_count": 34,
   "id": "c7e0858e",
   "metadata": {},
   "outputs": [
    {
     "data": {
      "text/plain": [
       "0     True\n",
       "1    False\n",
       "dtype: bool"
      ]
     },
     "execution_count": 34,
     "metadata": {},
     "output_type": "execute_result"
    }
   ],
   "source": [
    "pd.Series([True,False])"
   ]
  },
  {
   "cell_type": "code",
   "execution_count": 35,
   "id": "9553ea6e",
   "metadata": {},
   "outputs": [
    {
     "data": {
      "text/plain": [
       "0       1\n",
       "1    True\n",
       "dtype: object"
      ]
     },
     "execution_count": 35,
     "metadata": {},
     "output_type": "execute_result"
    }
   ],
   "source": [
    "pd.Series([1,True])"
   ]
  },
  {
   "cell_type": "code",
   "execution_count": 36,
   "id": "fefde68c",
   "metadata": {},
   "outputs": [
    {
     "data": {
      "text/plain": [
       "0    1.0+0.0j\n",
       "1    1.1+0.0j\n",
       "2    1.0+2.0j\n",
       "dtype: complex128"
      ]
     },
     "execution_count": 36,
     "metadata": {},
     "output_type": "execute_result"
    }
   ],
   "source": [
    "pd.Series([1,1.1,1+2j])"
   ]
  },
  {
   "cell_type": "code",
   "execution_count": 37,
   "id": "822e9a24",
   "metadata": {},
   "outputs": [
    {
     "data": {
      "text/plain": [
       "0          1\n",
       "1        1.1\n",
       "2     (1+2j)\n",
       "3    keerthi\n",
       "dtype: object"
      ]
     },
     "execution_count": 37,
     "metadata": {},
     "output_type": "execute_result"
    }
   ],
   "source": [
    "pd.Series([1,1.1,1+2j,\"keerthi\"])"
   ]
  }
 ],
 "metadata": {
  "kernelspec": {
   "display_name": "Python 3",
   "language": "python",
   "name": "python3"
  },
  "language_info": {
   "codemirror_mode": {
    "name": "ipython",
    "version": 3
   },
   "file_extension": ".py",
   "mimetype": "text/x-python",
   "name": "python",
   "nbconvert_exporter": "python",
   "pygments_lexer": "ipython3",
   "version": "3.12.6"
  }
 },
 "nbformat": 4,
 "nbformat_minor": 5
}
